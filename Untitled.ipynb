{
 "cells": [
  {
   "cell_type": "code",
   "execution_count": 10,
   "id": "05a806f5",
   "metadata": {},
   "outputs": [],
   "source": [
    "import torch\n",
    "import torch.nn as nn\n",
    "from torch.autograd import Variable, grad\n",
    "import numpy as np\n",
    "from collections import OrderedDict\n",
    "from torch.autograd import functional as F "
   ]
  },
  {
   "cell_type": "code",
   "execution_count": 15,
   "id": "f4385c76",
   "metadata": {},
   "outputs": [],
   "source": [
    "device = torch.device(\"mps\" if torch.backends.mps.is_available() else \"cpu\")\n",
    "device = torch.device(\"cpu\")"
   ]
  },
  {
   "cell_type": "code",
   "execution_count": 16,
   "id": "5e7a9c72",
   "metadata": {},
   "outputs": [],
   "source": [
    "class DNN(nn.Module):\n",
    "    def __init__(self, layers):\n",
    "        super(DNN, self).__init__()\n",
    "        self.depth = len(layers) - 1\n",
    "        self.activation = nn.Tanh\n",
    "        \n",
    "        layer_list = list()\n",
    "        for i in range(self.depth -1):\n",
    "            layer_list.append(\n",
    "                (f'layer_{i}', nn.Linear(layers[i], layers[i+1]))\n",
    "            )\n",
    "            layer_list.append((f'activation_{i}', self.activation()))\n",
    "        \n",
    "        layer_list.append(\n",
    "            (f'layer_{self.depth - 1}', nn.Linear(layers[-2], layers[-1]))\n",
    "        )\n",
    "        \n",
    "        layer_dict = OrderedDict(layer_list)\n",
    "        \n",
    "        self.layers = nn.Sequential(layer_dict)\n",
    "        \n",
    "    def forward(self, x):\n",
    "        out = self.layers(x)\n",
    "        return out"
   ]
  },
  {
   "cell_type": "code",
   "execution_count": 4,
   "id": "0cbf5ff5",
   "metadata": {},
   "outputs": [],
   "source": [
    "def true_solution(x):\n",
    "    return -(x ** 4) / 24 + x ** 3 / 6 - x ** 2 / 4"
   ]
  },
  {
   "cell_type": "code",
   "execution_count": 24,
   "id": "ec4acf8b",
   "metadata": {},
   "outputs": [],
   "source": [
    "class pinn():\n",
    "    def __init__(self, x, layers):\n",
    "        self.mse_cost_function = nn.MSELoss() \n",
    "        self.layers = layers\n",
    "        self.x = torch.tensor(x, requires_grad=True).float().to(device)\n",
    "        \n",
    "        # deep neural networks\n",
    "        self.dnn = DNN(layers).to(device)\n",
    "        \n",
    "        # optimizers: using the same settings\n",
    "        self.optimizer = torch.optim.LBFGS(\n",
    "            self.dnn.parameters(), \n",
    "            lr=1.0, \n",
    "            max_iter=50000, \n",
    "            max_eval=50000, \n",
    "            history_size=50,\n",
    "            tolerance_grad=1e-5, \n",
    "            tolerance_change=1.0 * np.finfo(float).eps,\n",
    "            line_search_fn=\"strong_wolfe\"\n",
    "        )\n",
    "\n",
    "        self.iter = 0\n",
    "        \n",
    "    def net_y(self, x):  \n",
    "        y = self.dnn(x)\n",
    "        return y\n",
    "    \n",
    "    def net_f(self, x):\n",
    "        \"\"\" The pytorch autograd version of calculating residual \"\"\"\n",
    "        y = self.net_y(x)\n",
    "        \n",
    "        y_x = torch.autograd.grad(\n",
    "            y, x, \n",
    "            grad_outputs=torch.ones_like(y),\n",
    "            retain_graph=True,\n",
    "            create_graph=True\n",
    "        )[0]\n",
    "        \n",
    "        y_xx= torch.autograd.grad(\n",
    "            y_x, x, \n",
    "            grad_outputs=torch.ones_like(y_x),\n",
    "            retain_graph=True,\n",
    "            create_graph=True\n",
    "        )[0]\n",
    "        \n",
    "        y_xxx = torch.autograd.grad(\n",
    "            y_xx, x, \n",
    "            grad_outputs=torch.ones_like(y_xx),\n",
    "            retain_graph=True,\n",
    "            create_graph=True\n",
    "        )[0]\n",
    "        \n",
    "        y_xxxx = torch.autograd.grad(\n",
    "            y_xxx, x, \n",
    "            grad_outputs=torch.ones_like(y_xxx),\n",
    "            retain_graph=True,\n",
    "            create_graph=True\n",
    "        )[0]\n",
    "        \n",
    "        f = y_xxxx + 1\n",
    "        return f\n",
    "    \n",
    "    def loss_func(self):\n",
    "        self.optimizer.zero_grad()\n",
    "        \n",
    "        y_pred = self.net_y(self.x)\n",
    "        f_pred = self.net_f(self.x)\n",
    "        loss_u = torch.mean((self.x - y_pred) ** 2)\n",
    "        loss_f = torch.mean(f_pred ** 2)\n",
    "        \n",
    "        loss = loss_u + loss_f\n",
    "        \n",
    "        loss.backward()\n",
    "        self.iter += 1\n",
    "        if self.iter % 100 == 0:\n",
    "            print(\n",
    "                'Iter %d, Loss: %.5e, Loss_u: %.5e, Loss_f: %.5e' % (self.iter, loss.item(), loss_u.item(), loss_f.item())\n",
    "            )\n",
    "        return loss\n",
    "    \n",
    "    def train(self):\n",
    "        self.dnn.train()\n",
    "                \n",
    "        # Backward and optimize\n",
    "        self.optimizer.step(self.loss_func)\n",
    "\n",
    "            \n",
    "    def predict(self, X):\n",
    "        x = torch.tensor(X, requires_grad=True).float().to(device)\n",
    "\n",
    "        self.dnn.eval()\n",
    "        u = self.net_u(x, t)\n",
    "        f = self.net_f(x, t)\n",
    "        u = u.detach().cpu().numpy()\n",
    "        f = f.detach().cpu().numpy()\n",
    "        return u, f"
   ]
  },
  {
   "cell_type": "code",
   "execution_count": 25,
   "id": "24c43644",
   "metadata": {},
   "outputs": [],
   "source": [
    "x_bc = np.random.uniform(low=0.0, high=1.0, size=(500,1))\n",
    "y_bc = true_solution(x_bc)"
   ]
  },
  {
   "cell_type": "code",
   "execution_count": 26,
   "id": "e62e0acc",
   "metadata": {},
   "outputs": [],
   "source": [
    "layers = [1] + [20] * 5 + [1]"
   ]
  },
  {
   "cell_type": "code",
   "execution_count": 27,
   "id": "a074e002",
   "metadata": {},
   "outputs": [],
   "source": [
    "model = pinn(x_bc, layers)"
   ]
  },
  {
   "cell_type": "code",
   "execution_count": 28,
   "id": "de603c9c",
   "metadata": {},
   "outputs": [
    {
     "name": "stdout",
     "output_type": "stream",
     "text": [
      "Iter 100, Loss: 1.42906e-05, Loss_u: 3.92243e-06, Loss_f: 1.03681e-05\n"
     ]
    }
   ],
   "source": [
    "model.train()"
   ]
  },
  {
   "cell_type": "code",
   "execution_count": null,
   "id": "60b75c56",
   "metadata": {},
   "outputs": [],
   "source": []
  }
 ],
 "metadata": {
  "kernelspec": {
   "display_name": "pytorch",
   "language": "python",
   "name": "pytorch"
  },
  "language_info": {
   "codemirror_mode": {
    "name": "ipython",
    "version": 3
   },
   "file_extension": ".py",
   "mimetype": "text/x-python",
   "name": "python",
   "nbconvert_exporter": "python",
   "pygments_lexer": "ipython3",
   "version": "3.10.5"
  }
 },
 "nbformat": 4,
 "nbformat_minor": 5
}
